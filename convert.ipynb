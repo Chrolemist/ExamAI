{
 "cells": [
  {
   "cell_type": "code",
   "execution_count": 1,
   "id": "ac064c0e",
   "metadata": {},
   "outputs": [
    {
     "data": {
      "text/plain": [
       "<aspose.words.saving.SaveOutputParameters object at 0x0000024A71192470>"
      ]
     },
     "execution_count": 1,
     "metadata": {},
     "output_type": "execute_result"
    }
   ],
   "source": [
    "import aspose.words as aw\n",
    "\n",
    "# Sökväg till MOBI-filen\n",
    "mobi_path = r\"C:\\Users\\MSI - GF63\\Downloads\\Memory Improvement_ 10 Easy Ways to Train Your Memory -- Walker, Peter -- 2016 -- d951399c073a121290eeb2788d60fe52 -- Anna’s Archive.mobi\"\n",
    "pdf_path = r\"C:\\Users\\MSI - GF63\\Downloads\\Memory Improvement.pdf\"\n",
    "\n",
    "# Ladda MOBI-filen\n",
    "doc = aw.Document(mobi_path)\n",
    "\n",
    "# Spara som PDF\n",
    "doc.save(pdf_path, aw.SaveFormat.PDF)"
   ]
  }
 ],
 "metadata": {
  "kernelspec": {
   "display_name": "examai",
   "language": "python",
   "name": "python3"
  },
  "language_info": {
   "codemirror_mode": {
    "name": "ipython",
    "version": 3
   },
   "file_extension": ".py",
   "mimetype": "text/x-python",
   "name": "python",
   "nbconvert_exporter": "python",
   "pygments_lexer": "ipython3",
   "version": "3.11.13"
  }
 },
 "nbformat": 4,
 "nbformat_minor": 5
}
